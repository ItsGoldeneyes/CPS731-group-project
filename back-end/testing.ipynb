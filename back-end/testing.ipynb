{
 "cells": [
  {
   "cell_type": "code",
   "execution_count": 3,
   "metadata": {},
   "outputs": [],
   "source": [
    "import requests"
   ]
  },
  {
   "cell_type": "code",
   "execution_count": 42,
   "metadata": {},
   "outputs": [],
   "source": [
    "def login_test():\n",
    "    url = 'http://127.0.0.1:5000/login'\n",
    "\n",
    "    data = {\n",
    "        'username': 'adam.cameron@aaier.ca',\n",
    "        'password': 'password',\n",
    "    }\n",
    "\n",
    "    # Make the POST request\n",
    "    response = requests.post(url, json=data)\n",
    "\n",
    "    # Print the response\n",
    "    print(response.status_code)\n",
    "    print(response.json())  # If the response contains JSON content\n",
    "    \n",
    "    \n",
    "    \n",
    "def create_ticket_test():\n",
    "    url = 'http://127.0.0.1:5000/create_ticket'\n",
    "    \n",
    "    data = {\n",
    "        \"title\": \"Test Ticket\",\n",
    "        \"requestor_id\": \"17\",\n",
    "        \"description\": \"This is a test ticket\",\n",
    "        \"category\": \"computer\",\n",
    "        \"priority\": \"low\",\n",
    "    }\n",
    "    \n",
    "    # Make the POST request\n",
    "    response = requests.post(url, json=data)\n",
    "    \n",
    "    # Print the response\n",
    "    print(response.status_code)\n",
    "    print(response.json())  # If the response contains JSON content\n",
    "    \n",
    "    \n",
    "def get_ticket_test():\n",
    "    url = 'http://127.0.0.1:5000/get_ticket'\n",
    "    \n",
    "    data = {\n",
    "        \"ticket_id\": \"1\",\n",
    "    }\n",
    "    \n",
    "    # Make the POST request\n",
    "    response = requests.post(url, json=data)\n",
    "    \n",
    "    # Print the response\n",
    "    print(response.status_code)\n",
    "    print(response.json())  # If the response contains JSON content\n",
    "    \n",
    "    \n",
    "def view_all_tickets_test():\n",
    "    url = 'http://127.0.0.1:5000/view_all_tickets'\n",
    "    \n",
    "    data = {\n",
    "        \"user_id\": \"1\",\n",
    "    }\n",
    "    \n",
    "    # Make the POST request\n",
    "    response = requests.post(url, json=data)\n",
    "    \n",
    "    # Print the response\n",
    "    print(response.status_code)\n",
    "    print(response.json())  # If the response contains JSON content\n",
    "    \n",
    "\n",
    "def get_user_test():\n",
    "    url = 'http://127.0.0.1:5000/get_user'\n",
    "    \n",
    "    data = {\n",
    "        \"user_id\": \"1\",\n",
    "    }\n",
    "    \n",
    "    # Make the POST request\n",
    "    response = requests.post(url, json=data)\n",
    "    \n",
    "    # Print the response\n",
    "    print(response.status_code)\n",
    "    print(response.json())  # If the response contains JSON content\n",
    "    \n",
    "    \n",
    "def set_user_schedule_test():\n",
    "    url = 'http://127.0.0.1:5000/set_user_schedule'\n",
    "    \n",
    "    data = {\n",
    "        \"user_id\": \"1\",\n",
    "        \"schedule\": ['12 * * * 3', '13 * * * 4', '11 * * * 4'],\n",
    "    }\n",
    "    \n",
    "    # Make the POST request\n",
    "    response = requests.post(url, json=data)\n",
    "    \n",
    "    # Print the response\n",
    "    print(response.status_code)\n",
    "    print(response.json())  # If the response contains JSON content\n",
    "    \n",
    "    \n",
    "def get_user_schedule_test():\n",
    "    url = 'http://127.0.0.1:5000/get_user_schedule'\n",
    "    \n",
    "    data = {\n",
    "        \"user_id\": \"1\",\n",
    "    }\n",
    "    \n",
    "    # Make the POST request\n",
    "    response = requests.post(url, json=data)\n",
    "    \n",
    "    # Print the response\n",
    "    print(response.status_code)\n",
    "    print(response.json())  # If the response contains JSON content\n",
    "    \n",
    "    "
   ]
  },
  {
   "cell_type": "code",
   "execution_count": 30,
   "metadata": {},
   "outputs": [
    {
     "name": "stdout",
     "output_type": "stream",
     "text": [
      "200\n",
      "{'message': 'Ticket created', 'success': True, 'ticket_id': 7}\n"
     ]
    }
   ],
   "source": [
    "create_ticket_test()"
   ]
  },
  {
   "cell_type": "code",
   "execution_count": 23,
   "metadata": {},
   "outputs": [
    {
     "name": "stdout",
     "output_type": "stream",
     "text": [
      "200\n",
      "{'message': 'Ticket found', 'success': True, 'ticket': [1, 1, 1, 'Test Ticket', 'This is a test ticket', 'computer', '2023-12-02 03:08:13.939767', 'low', 'Open', None, '0 6 * * 5']}\n"
     ]
    }
   ],
   "source": [
    "get_ticket_test()"
   ]
  },
  {
   "cell_type": "code",
   "execution_count": 31,
   "metadata": {},
   "outputs": [
    {
     "name": "stdout",
     "output_type": "stream",
     "text": [
      "200\n",
      "{'message': 'Tickets found', 'success': True, 'tickets': [[1, 1, 1, 'Test Ticket', 'This is a test ticket', 'computer', '2023-12-02 03:08:13.939767', 'low', 'Open', None, '0 6 * * 5'], [2, 1, 1, 'Test Ticket', 'This is a test ticket', 'computer', '2023-12-02 03:10:07.753583', 'low', 'Open', None, '0 6 * * 5'], [3, 1, 1, 'Test Ticket', 'This is a test ticket', 'computer', '2023-12-02 03:11:09.811142', 'low', 'Open', None, '0 6 * * 5'], [4, 1, 1, 'Test Ticket', 'This is a test ticket', 'computer', '2023-12-02 03:11:14.026027', 'low', 'Open', None, '0 6 * * 5'], [5, 17, 1, 'Test Ticket', 'This is a test ticket', 'computer', '2023-12-02 03:12:54.202690', 'low', 'Open', None, '0 6 * * 5'], [6, 17, 1, 'Test Ticket', 'This is a test ticket', 'computer', '2023-12-02 03:12:56.277575', 'low', 'Open', None, '0 6 * * 5'], [7, 17, 1, 'Test Ticket', 'This is a test ticket', 'computer', '2023-12-02 03:12:57.331036', 'low', 'Open', None, '0 6 * * 5']]}\n"
     ]
    }
   ],
   "source": [
    "view_all_tickets_test()"
   ]
  },
  {
   "cell_type": "code",
   "execution_count": 33,
   "metadata": {},
   "outputs": [
    {
     "name": "stdout",
     "output_type": "stream",
     "text": [
      "200\n",
      "{'message': 'User found', 'success': True, 'user': [1, 'Adam Cameron', 'adam.cameron@aaier.ca', 'admin', 'computer', 'IT']}\n"
     ]
    }
   ],
   "source": [
    "get_user_test()"
   ]
  },
  {
   "cell_type": "code",
   "execution_count": 44,
   "metadata": {},
   "outputs": [
    {
     "name": "stdout",
     "output_type": "stream",
     "text": [
      "200\n",
      "{'message': 'Schedule set', 'success': True}\n"
     ]
    }
   ],
   "source": [
    "set_user_schedule_test()\n"
   ]
  },
  {
   "cell_type": "code",
   "execution_count": null,
   "metadata": {},
   "outputs": [],
   "source": [
    "get"
   ]
  },
  {
   "cell_type": "code",
   "execution_count": 35,
   "metadata": {},
   "outputs": [],
   "source": [
    "schedule_1 = [\"10 * * * 3\", \"11 * * * 4\"]\n",
    "schedule_2 = [\"12 * * * 3\", \"13 * * * 4\", \"11 * * * 4\"]"
   ]
  },
  {
   "cell_type": "code",
   "execution_count": 4,
   "metadata": {},
   "outputs": [],
   "source": [
    "comp_schedules = [x for x in schedule_1 if x in schedule_2]"
   ]
  },
  {
   "cell_type": "code",
   "execution_count": 5,
   "metadata": {},
   "outputs": [
    {
     "data": {
      "text/plain": [
       "['11 * * * 4']"
      ]
     },
     "execution_count": 5,
     "metadata": {},
     "output_type": "execute_result"
    }
   ],
   "source": [
    "comp_schedules"
   ]
  },
  {
   "cell_type": "markdown",
   "metadata": {},
   "source": [
    "### Other Testing"
   ]
  },
  {
   "cell_type": "code",
   "execution_count": 1,
   "metadata": {},
   "outputs": [],
   "source": [
    "import functions"
   ]
  },
  {
   "cell_type": "code",
   "execution_count": 2,
   "metadata": {},
   "outputs": [
    {
     "data": {
      "text/plain": [
       "[]"
      ]
     },
     "execution_count": 2,
     "metadata": {},
     "output_type": "execute_result"
    }
   ],
   "source": [
    "functions.view_all_tickets(\"25\")"
   ]
  },
  {
   "cell_type": "code",
   "execution_count": 37,
   "metadata": {},
   "outputs": [],
   "source": [
    "schedule = \",\".join(schedule_2)"
   ]
  },
  {
   "cell_type": "code",
   "execution_count": 38,
   "metadata": {},
   "outputs": [
    {
     "data": {
      "text/plain": [
       "'12 * * * 3,13 * * * 4,11 * * * 4'"
      ]
     },
     "execution_count": 38,
     "metadata": {},
     "output_type": "execute_result"
    }
   ],
   "source": [
    "schedule"
   ]
  },
  {
   "cell_type": "code",
   "execution_count": null,
   "metadata": {},
   "outputs": [],
   "source": []
  }
 ],
 "metadata": {
  "kernelspec": {
   "display_name": "Python 3",
   "language": "python",
   "name": "python3"
  },
  "language_info": {
   "codemirror_mode": {
    "name": "ipython",
    "version": 3
   },
   "file_extension": ".py",
   "mimetype": "text/x-python",
   "name": "python",
   "nbconvert_exporter": "python",
   "pygments_lexer": "ipython3",
   "version": "3.9.13"
  }
 },
 "nbformat": 4,
 "nbformat_minor": 2
}

{
 "cells": [
  {
   "cell_type": "code",
   "execution_count": 5,
   "metadata": {},
   "outputs": [],
   "source": [
    "import requests"
   ]
  },
  {
   "cell_type": "code",
   "execution_count": 7,
   "metadata": {},
   "outputs": [],
   "source": [
    "def login_test():\n",
    "    url = 'http://127.0.0.1:5000/login'\n",
    "\n",
    "    data = {\n",
    "        'username': 'adam.cameron@aaier.ca',\n",
    "        'password': 'password',\n",
    "    }\n",
    "\n",
    "    # Make the POST request\n",
    "    response = requests.post(url, json=data)\n",
    "\n",
    "    # Print the response\n",
    "    print(response.status_code)\n",
    "    print(response.json())  # If the response contains JSON content\n",
    "    \n",
    "    \n",
    "    \n",
    "def create_ticket_test():\n",
    "    url = 'http://127.0.0.1:5000/create_ticket'\n",
    "    \n",
    "    data = {\n",
    "        \"title\": \"Test Ticket\",\n",
    "        \"requestor_id\": \"17\",\n",
    "        \"description\": \"This is a test ticket\",\n",
    "        \"category\": \"computer\",\n",
    "        \"priority\": \"low\",\n",
    "    }\n",
    "    \n",
    "    # Make the POST request\n",
    "    response = requests.post(url, json=data)\n",
    "    \n",
    "    # Print the response\n",
    "    print(response.status_code)\n",
    "    print(response.json())  # If the response contains JSON content\n",
    "    \n",
    "    \n",
    "def get_ticket_test():\n",
    "    url = 'http://127.0.0.1:5000/get_ticket'\n",
    "    \n",
    "    data = {\n",
    "        \"ticket_id\": \"1\",\n",
    "    }\n",
    "    \n",
    "    # Make the POST request\n",
    "    response = requests.post(url, json=data)\n",
    "    \n",
    "    # Print the response\n",
    "    print(response.status_code)\n",
    "    print(response.json())  # If the response contains JSON content\n",
    "    \n",
    "    \n",
    "def update_ticket_test():\n",
    "    url = 'http://127.0.0.1:5000/update_ticket'\n",
    "    \n",
    "    data = {\n",
    "        \"ticket_id\": \"1\",\n",
    "        \"status\": \"closed\",\n",
    "        \"assignee_id\": \"1\",\n",
    "        \"priority\": \"low\",\n",
    "    }\n",
    "    \n",
    "    # Make the POST request\n",
    "    response = requests.post(url, json=data)\n",
    "    \n",
    "    # Print the response\n",
    "    print(response.status_code)\n",
    "    print(response.json())  # If the response contains JSON content\n",
    "    \n",
    "    \n",
    "def get_user_tickets_test():\n",
    "    url = 'http://127.0.0.1:5000/get_user_tickets'\n",
    "    \n",
    "    data = {\n",
    "        \"user_id\": \"1\",\n",
    "    }\n",
    "    \n",
    "    # Make the POST request\n",
    "    response = requests.post(url, json=data)\n",
    "    \n",
    "    # Print the response\n",
    "    print(response.status_code)\n",
    "    print(response.json())  # If the response contains JSON content\n",
    "    \n",
    "\n",
    "def get_user_test():\n",
    "    url = 'http://127.0.0.1:5000/get_user'\n",
    "    \n",
    "    data = {\n",
    "        \"user_id\": \"1\",\n",
    "    }\n",
    "    \n",
    "    # Make the POST request\n",
    "    response = requests.post(url, json=data)\n",
    "    \n",
    "    # Print the response\n",
    "    print(response.status_code)\n",
    "    print(response.json())  # If the response contains JSON content\n",
    "    \n",
    "    \n",
    "def set_user_schedule_test():\n",
    "    url = 'http://127.0.0.1:5000/set_user_schedule'\n",
    "    \n",
    "    data = {\n",
    "        \"user_id\": \"1\",\n",
    "        \"schedule\": ['12 * * * 3', '13 * * * 4', '11 * * * 4'],\n",
    "    }\n",
    "    \n",
    "    # Make the POST request\n",
    "    response = requests.post(url, json=data)\n",
    "    \n",
    "    # Print the response\n",
    "    print(response.status_code)\n",
    "    print(response.json())  # If the response contains JSON content\n",
    "    \n",
    "    \n",
    "def get_user_schedule_test():\n",
    "    url = 'http://127.0.0.1:5000/get_user_schedule'\n",
    "    \n",
    "    data = {\n",
    "        \"user_id\": \"1\",\n",
    "    }\n",
    "    \n",
    "    # Make the POST request\n",
    "    response = requests.post(url, json=data)\n",
    "    \n",
    "    # Print the response\n",
    "    print(response.status_code)\n",
    "    print(response.json())  # If the response contains JSON content\n",
    "    \n",
    "    "
   ]
  },
  {
   "cell_type": "code",
   "execution_count": 14,
   "metadata": {},
   "outputs": [
    {
     "name": "stdout",
     "output_type": "stream",
     "text": [
      "500\n"
     ]
    },
    {
     "ename": "JSONDecodeError",
     "evalue": "Expecting value: line 1 column 1 (char 0)",
     "output_type": "error",
     "traceback": [
      "\u001b[0;31m---------------------------------------------------------------------------\u001b[0m",
      "\u001b[0;31mJSONDecodeError\u001b[0m                           Traceback (most recent call last)",
      "\u001b[0;32m/var/folders/fs/0r199j4d36vdkz2rfhdgkjl80000gn/T/ipykernel_13160/1051373984.py\u001b[0m in \u001b[0;36m<module>\u001b[0;34m\u001b[0m\n\u001b[0;32m----> 1\u001b[0;31m \u001b[0mcreate_ticket_test\u001b[0m\u001b[0;34m(\u001b[0m\u001b[0;34m)\u001b[0m\u001b[0;34m\u001b[0m\u001b[0;34m\u001b[0m\u001b[0m\n\u001b[0m",
      "\u001b[0;32m/var/folders/fs/0r199j4d36vdkz2rfhdgkjl80000gn/T/ipykernel_13160/2331415097.py\u001b[0m in \u001b[0;36mcreate_ticket_test\u001b[0;34m()\u001b[0m\n\u001b[1;32m     32\u001b[0m     \u001b[0;31m# Print the response\u001b[0m\u001b[0;34m\u001b[0m\u001b[0;34m\u001b[0m\u001b[0m\n\u001b[1;32m     33\u001b[0m     \u001b[0mprint\u001b[0m\u001b[0;34m(\u001b[0m\u001b[0mresponse\u001b[0m\u001b[0;34m.\u001b[0m\u001b[0mstatus_code\u001b[0m\u001b[0;34m)\u001b[0m\u001b[0;34m\u001b[0m\u001b[0;34m\u001b[0m\u001b[0m\n\u001b[0;32m---> 34\u001b[0;31m     \u001b[0mprint\u001b[0m\u001b[0;34m(\u001b[0m\u001b[0mresponse\u001b[0m\u001b[0;34m.\u001b[0m\u001b[0mjson\u001b[0m\u001b[0;34m(\u001b[0m\u001b[0;34m)\u001b[0m\u001b[0;34m)\u001b[0m  \u001b[0;31m# If the response contains JSON content\u001b[0m\u001b[0;34m\u001b[0m\u001b[0;34m\u001b[0m\u001b[0m\n\u001b[0m\u001b[1;32m     35\u001b[0m \u001b[0;34m\u001b[0m\u001b[0m\n\u001b[1;32m     36\u001b[0m \u001b[0;34m\u001b[0m\u001b[0m\n",
      "\u001b[0;32m~/opt/anaconda3/lib/python3.9/site-packages/requests/models.py\u001b[0m in \u001b[0;36mjson\u001b[0;34m(self, **kwargs)\u001b[0m\n\u001b[1;32m    908\u001b[0m                     \u001b[0;31m# used.\u001b[0m\u001b[0;34m\u001b[0m\u001b[0;34m\u001b[0m\u001b[0m\n\u001b[1;32m    909\u001b[0m                     \u001b[0;32mpass\u001b[0m\u001b[0;34m\u001b[0m\u001b[0;34m\u001b[0m\u001b[0m\n\u001b[0;32m--> 910\u001b[0;31m         \u001b[0;32mreturn\u001b[0m \u001b[0mcomplexjson\u001b[0m\u001b[0;34m.\u001b[0m\u001b[0mloads\u001b[0m\u001b[0;34m(\u001b[0m\u001b[0mself\u001b[0m\u001b[0;34m.\u001b[0m\u001b[0mtext\u001b[0m\u001b[0;34m,\u001b[0m \u001b[0;34m**\u001b[0m\u001b[0mkwargs\u001b[0m\u001b[0;34m)\u001b[0m\u001b[0;34m\u001b[0m\u001b[0;34m\u001b[0m\u001b[0m\n\u001b[0m\u001b[1;32m    911\u001b[0m \u001b[0;34m\u001b[0m\u001b[0m\n\u001b[1;32m    912\u001b[0m     \u001b[0;34m@\u001b[0m\u001b[0mproperty\u001b[0m\u001b[0;34m\u001b[0m\u001b[0;34m\u001b[0m\u001b[0m\n",
      "\u001b[0;32m~/opt/anaconda3/lib/python3.9/json/__init__.py\u001b[0m in \u001b[0;36mloads\u001b[0;34m(s, cls, object_hook, parse_float, parse_int, parse_constant, object_pairs_hook, **kw)\u001b[0m\n\u001b[1;32m    344\u001b[0m             \u001b[0mparse_int\u001b[0m \u001b[0;32mis\u001b[0m \u001b[0;32mNone\u001b[0m \u001b[0;32mand\u001b[0m \u001b[0mparse_float\u001b[0m \u001b[0;32mis\u001b[0m \u001b[0;32mNone\u001b[0m \u001b[0;32mand\u001b[0m\u001b[0;34m\u001b[0m\u001b[0;34m\u001b[0m\u001b[0m\n\u001b[1;32m    345\u001b[0m             parse_constant is None and object_pairs_hook is None and not kw):\n\u001b[0;32m--> 346\u001b[0;31m         \u001b[0;32mreturn\u001b[0m \u001b[0m_default_decoder\u001b[0m\u001b[0;34m.\u001b[0m\u001b[0mdecode\u001b[0m\u001b[0;34m(\u001b[0m\u001b[0ms\u001b[0m\u001b[0;34m)\u001b[0m\u001b[0;34m\u001b[0m\u001b[0;34m\u001b[0m\u001b[0m\n\u001b[0m\u001b[1;32m    347\u001b[0m     \u001b[0;32mif\u001b[0m \u001b[0mcls\u001b[0m \u001b[0;32mis\u001b[0m \u001b[0;32mNone\u001b[0m\u001b[0;34m:\u001b[0m\u001b[0;34m\u001b[0m\u001b[0;34m\u001b[0m\u001b[0m\n\u001b[1;32m    348\u001b[0m         \u001b[0mcls\u001b[0m \u001b[0;34m=\u001b[0m \u001b[0mJSONDecoder\u001b[0m\u001b[0;34m\u001b[0m\u001b[0;34m\u001b[0m\u001b[0m\n",
      "\u001b[0;32m~/opt/anaconda3/lib/python3.9/json/decoder.py\u001b[0m in \u001b[0;36mdecode\u001b[0;34m(self, s, _w)\u001b[0m\n\u001b[1;32m    335\u001b[0m \u001b[0;34m\u001b[0m\u001b[0m\n\u001b[1;32m    336\u001b[0m         \"\"\"\n\u001b[0;32m--> 337\u001b[0;31m         \u001b[0mobj\u001b[0m\u001b[0;34m,\u001b[0m \u001b[0mend\u001b[0m \u001b[0;34m=\u001b[0m \u001b[0mself\u001b[0m\u001b[0;34m.\u001b[0m\u001b[0mraw_decode\u001b[0m\u001b[0;34m(\u001b[0m\u001b[0ms\u001b[0m\u001b[0;34m,\u001b[0m \u001b[0midx\u001b[0m\u001b[0;34m=\u001b[0m\u001b[0m_w\u001b[0m\u001b[0;34m(\u001b[0m\u001b[0ms\u001b[0m\u001b[0;34m,\u001b[0m \u001b[0;36m0\u001b[0m\u001b[0;34m)\u001b[0m\u001b[0;34m.\u001b[0m\u001b[0mend\u001b[0m\u001b[0;34m(\u001b[0m\u001b[0;34m)\u001b[0m\u001b[0;34m)\u001b[0m\u001b[0;34m\u001b[0m\u001b[0;34m\u001b[0m\u001b[0m\n\u001b[0m\u001b[1;32m    338\u001b[0m         \u001b[0mend\u001b[0m \u001b[0;34m=\u001b[0m \u001b[0m_w\u001b[0m\u001b[0;34m(\u001b[0m\u001b[0ms\u001b[0m\u001b[0;34m,\u001b[0m \u001b[0mend\u001b[0m\u001b[0;34m)\u001b[0m\u001b[0;34m.\u001b[0m\u001b[0mend\u001b[0m\u001b[0;34m(\u001b[0m\u001b[0;34m)\u001b[0m\u001b[0;34m\u001b[0m\u001b[0;34m\u001b[0m\u001b[0m\n\u001b[1;32m    339\u001b[0m         \u001b[0;32mif\u001b[0m \u001b[0mend\u001b[0m \u001b[0;34m!=\u001b[0m \u001b[0mlen\u001b[0m\u001b[0;34m(\u001b[0m\u001b[0ms\u001b[0m\u001b[0;34m)\u001b[0m\u001b[0;34m:\u001b[0m\u001b[0;34m\u001b[0m\u001b[0;34m\u001b[0m\u001b[0m\n",
      "\u001b[0;32m~/opt/anaconda3/lib/python3.9/json/decoder.py\u001b[0m in \u001b[0;36mraw_decode\u001b[0;34m(self, s, idx)\u001b[0m\n\u001b[1;32m    353\u001b[0m             \u001b[0mobj\u001b[0m\u001b[0;34m,\u001b[0m \u001b[0mend\u001b[0m \u001b[0;34m=\u001b[0m \u001b[0mself\u001b[0m\u001b[0;34m.\u001b[0m\u001b[0mscan_once\u001b[0m\u001b[0;34m(\u001b[0m\u001b[0ms\u001b[0m\u001b[0;34m,\u001b[0m \u001b[0midx\u001b[0m\u001b[0;34m)\u001b[0m\u001b[0;34m\u001b[0m\u001b[0;34m\u001b[0m\u001b[0m\n\u001b[1;32m    354\u001b[0m         \u001b[0;32mexcept\u001b[0m \u001b[0mStopIteration\u001b[0m \u001b[0;32mas\u001b[0m \u001b[0merr\u001b[0m\u001b[0;34m:\u001b[0m\u001b[0;34m\u001b[0m\u001b[0;34m\u001b[0m\u001b[0m\n\u001b[0;32m--> 355\u001b[0;31m             \u001b[0;32mraise\u001b[0m \u001b[0mJSONDecodeError\u001b[0m\u001b[0;34m(\u001b[0m\u001b[0;34m\"Expecting value\"\u001b[0m\u001b[0;34m,\u001b[0m \u001b[0ms\u001b[0m\u001b[0;34m,\u001b[0m \u001b[0merr\u001b[0m\u001b[0;34m.\u001b[0m\u001b[0mvalue\u001b[0m\u001b[0;34m)\u001b[0m \u001b[0;32mfrom\u001b[0m \u001b[0;32mNone\u001b[0m\u001b[0;34m\u001b[0m\u001b[0;34m\u001b[0m\u001b[0m\n\u001b[0m\u001b[1;32m    356\u001b[0m         \u001b[0;32mreturn\u001b[0m \u001b[0mobj\u001b[0m\u001b[0;34m,\u001b[0m \u001b[0mend\u001b[0m\u001b[0;34m\u001b[0m\u001b[0;34m\u001b[0m\u001b[0m\n",
      "\u001b[0;31mJSONDecodeError\u001b[0m: Expecting value: line 1 column 1 (char 0)"
     ]
    }
   ],
   "source": [
    "create_ticket_test()"
   ]
  },
  {
   "cell_type": "code",
   "execution_count": 28,
   "metadata": {},
   "outputs": [
    {
     "name": "stdout",
     "output_type": "stream",
     "text": [
      "200\n",
      "{'message': 'Ticket found', 'success': True, 'ticket': [1, 1, 'closed', 'Test Ticket', 'This is a test ticket', 'computer', '2023-12-02 03:08:13.939767', 'low', 1, None, '0 6 * * 5']}\n"
     ]
    }
   ],
   "source": [
    "get_ticket_test()"
   ]
  },
  {
   "cell_type": "code",
   "execution_count": 31,
   "metadata": {},
   "outputs": [
    {
     "name": "stdout",
     "output_type": "stream",
     "text": [
      "200\n",
      "{'message': 'Tickets found', 'success': True, 'tickets': [[1, 1, 'closed', 'Test Ticket', 'This is a test ticket', 'computer', '2023-12-02 03:08:13.939767', 'low', 1, None, '0 6 * * 5'], [2, 1, 1, 'Test Ticket', 'This is a test ticket', 'computer', '2023-12-02 03:10:07.753583', 'low', 'Open', None, '0 6 * * 5'], [3, 1, 1, 'Test Ticket', 'This is a test ticket', 'computer', '2023-12-02 03:11:09.811142', 'low', 'Open', None, '0 6 * * 5'], [4, 1, 1, 'Test Ticket', 'This is a test ticket', 'computer', '2023-12-02 03:11:14.026027', 'low', 'Open', None, '0 6 * * 5'], [5, 17, 1, 'Test Ticket', 'This is a test ticket', 'computer', '2023-12-02 03:12:54.202690', 'low', 'Open', None, '0 6 * * 5'], [6, 17, 1, 'Test Ticket', 'This is a test ticket', 'computer', '2023-12-02 03:12:56.277575', 'low', 'Open', None, '0 6 * * 5'], [7, 17, 1, 'Test Ticket', 'This is a test ticket', 'computer', '2023-12-02 03:12:57.331036', 'low', 'Open', None, '0 6 * * 5'], [8, 17, 1, 'Test Ticket', 'This is a test ticket', 'computer', '2023-12-02 15:08:49.786956', 'low', 'Open', None, '0 6 * * 5'], [9, 17, 1, 'Test Ticket', 'This is a test ticket', 'computer', '2023-12-02 15:09:30.225676', 'low', 'Open', None, '0 6 * * 5'], [10, 17, 1, 'Test Ticket', 'This is a test ticket', 'computer', '2023-12-02 15:09:33.164337', 'low', 'Open', None, '0 6 * * 5']]}\n"
     ]
    }
   ],
   "source": [
    "get_user_tickets_test()"
   ]
  },
  {
   "cell_type": "code",
   "execution_count": 42,
   "metadata": {},
   "outputs": [
    {
     "name": "stdout",
     "output_type": "stream",
     "text": [
      "200\n",
      "{'message': 'Ticket updated', 'success': True}\n"
     ]
    }
   ],
   "source": [
    "update_ticket_test()"
   ]
  },
  {
   "cell_type": "code",
   "execution_count": 43,
   "metadata": {},
   "outputs": [
    {
     "name": "stdout",
     "output_type": "stream",
     "text": [
      "200\n",
      "{'message': 'User found', 'success': True, 'user': [1, 'Adam Cameron', 'adam.cameron@aaier.ca', 'admin', 'computer', 'IT']}\n"
     ]
    }
   ],
   "source": [
    "get_user_test()"
   ]
  },
  {
   "cell_type": "code",
   "execution_count": 44,
   "metadata": {},
   "outputs": [
    {
     "name": "stdout",
     "output_type": "stream",
     "text": [
      "200\n",
      "{'message': 'Schedule set', 'success': True}\n"
     ]
    }
   ],
   "source": [
    "set_user_schedule_test()\n"
   ]
  },
  {
   "cell_type": "code",
   "execution_count": 45,
   "metadata": {},
   "outputs": [
    {
     "name": "stdout",
     "output_type": "stream",
     "text": [
      "200\n",
      "{'message': 'Schedule found', 'schedule': ['12 * * * 3', '13 * * * 4', '11 * * * 4'], 'success': True}\n"
     ]
    }
   ],
   "source": [
    "get_user_schedule_test()"
   ]
  },
  {
   "cell_type": "markdown",
   "metadata": {},
   "source": [
    "### Schedule testing"
   ]
  },
  {
   "cell_type": "code",
   "execution_count": 33,
   "metadata": {},
   "outputs": [],
   "source": [
    "schedule = \"12 * * * 3,13 * * * 4, 11 * * * 4\""
   ]
  },
  {
   "cell_type": "code",
   "execution_count": 34,
   "metadata": {},
   "outputs": [],
   "source": [
    "schedule = schedule.split(',')"
   ]
  },
  {
   "cell_type": "code",
   "execution_count": 35,
   "metadata": {},
   "outputs": [
    {
     "data": {
      "text/plain": [
       "['12 * * * 3', '13 * * * 4', ' 11 * * * 4']"
      ]
     },
     "execution_count": 35,
     "metadata": {},
     "output_type": "execute_result"
    }
   ],
   "source": [
    "schedule"
   ]
  },
  {
   "cell_type": "code",
   "execution_count": 36,
   "metadata": {},
   "outputs": [],
   "source": [
    "schedule_1 = [\"10 * * * 3\", \"11 * * * 4\"]\n",
    "schedule_2 = [\"12 * * * 3\", \"13 * * * 4\", \"11 * * * 4\"]"
   ]
  },
  {
   "cell_type": "code",
   "execution_count": 37,
   "metadata": {},
   "outputs": [],
   "source": [
    "comp_schedules = [x for x in schedule_1 if x in schedule_2]"
   ]
  },
  {
   "cell_type": "code",
   "execution_count": 38,
   "metadata": {},
   "outputs": [
    {
     "data": {
      "text/plain": [
       "['11 * * * 4']"
      ]
     },
     "execution_count": 38,
     "metadata": {},
     "output_type": "execute_result"
    }
   ],
   "source": [
    "comp_schedules"
   ]
  },
  {
   "cell_type": "markdown",
   "metadata": {},
   "source": [
    "### Other Testing"
   ]
  },
  {
   "cell_type": "code",
   "execution_count": 10,
   "metadata": {},
   "outputs": [],
   "source": [
    "import functions"
   ]
  },
  {
   "cell_type": "code",
   "execution_count": 11,
   "metadata": {},
   "outputs": [],
   "source": [
    "schedule = \",\".join(schedule_2)"
   ]
  },
  {
   "cell_type": "code",
   "execution_count": 12,
   "metadata": {},
   "outputs": [
    {
     "data": {
      "text/plain": [
       "'12 * * * 3,13 * * * 4,11 * * * 4'"
      ]
     },
     "execution_count": 12,
     "metadata": {},
     "output_type": "execute_result"
    }
   ],
   "source": [
    "schedule"
   ]
  },
  {
   "cell_type": "code",
   "execution_count": 13,
   "metadata": {},
   "outputs": [],
   "source": [
    "from cron_descriptor import get_description"
   ]
  },
  {
   "cell_type": "code",
   "execution_count": 17,
   "metadata": {},
   "outputs": [
    {
     "ename": "FormatException",
     "evalue": "Error: Expression has too many parts (13).  Expression must not have more than 7 parts.",
     "output_type": "error",
     "traceback": [
      "\u001b[1;31m---------------------------------------------------------------------------\u001b[0m",
      "\u001b[1;31mFormatException\u001b[0m                           Traceback (most recent call last)",
      "\u001b[1;32mc:\\Users\\adamc\\OneDrive\\Documents\\GitHub\\CPS731-group-project\\back-end\\testing.ipynb Cell 18\u001b[0m line \u001b[0;36m1\n\u001b[1;32m----> <a href='vscode-notebook-cell:/c%3A/Users/adamc/OneDrive/Documents/GitHub/CPS731-group-project/back-end/testing.ipynb#X24sZmlsZQ%3D%3D?line=0'>1</a>\u001b[0m get_description(schedule)\n",
      "File \u001b[1;32mc:\\Users\\adamc\\AppData\\Local\\Programs\\Python\\Python39\\lib\\site-packages\\cron_descriptor\\ExpressionDescriptor.py:651\u001b[0m, in \u001b[0;36mget_description\u001b[1;34m(expression, options)\u001b[0m\n\u001b[0;32m    642\u001b[0m \u001b[39mdef\u001b[39;00m \u001b[39mget_description\u001b[39m(expression, options\u001b[39m=\u001b[39m\u001b[39mNone\u001b[39;00m):\n\u001b[0;32m    643\u001b[0m \u001b[39m    \u001b[39m\u001b[39m\"\"\"Generates a human readable string for the Cron Expression\u001b[39;00m\n\u001b[0;32m    644\u001b[0m \u001b[39m    Args:\u001b[39;00m\n\u001b[0;32m    645\u001b[0m \u001b[39m        expression: The cron expression string\u001b[39;00m\n\u001b[1;32m   (...)\u001b[0m\n\u001b[0;32m    649\u001b[0m \n\u001b[0;32m    650\u001b[0m \u001b[39m    \"\"\"\u001b[39;00m\n\u001b[1;32m--> 651\u001b[0m     descripter \u001b[39m=\u001b[39m ExpressionDescriptor(expression, options)\n\u001b[0;32m    652\u001b[0m     \u001b[39mreturn\u001b[39;00m descripter\u001b[39m.\u001b[39mget_description(DescriptionTypeEnum\u001b[39m.\u001b[39mFULL)\n",
      "File \u001b[1;32mc:\\Users\\adamc\\AppData\\Local\\Programs\\Python\\Python39\\lib\\site-packages\\cron_descriptor\\ExpressionDescriptor.py:76\u001b[0m, in \u001b[0;36mExpressionDescriptor.__init__\u001b[1;34m(self, expression, options, **kwargs)\u001b[0m\n\u001b[0;32m     74\u001b[0m \u001b[39m# Parse expression\u001b[39;00m\n\u001b[0;32m     75\u001b[0m parser \u001b[39m=\u001b[39m ExpressionParser(\u001b[39mself\u001b[39m\u001b[39m.\u001b[39m_expression, \u001b[39mself\u001b[39m\u001b[39m.\u001b[39m_options)\n\u001b[1;32m---> 76\u001b[0m \u001b[39mself\u001b[39m\u001b[39m.\u001b[39m_expression_parts \u001b[39m=\u001b[39m parser\u001b[39m.\u001b[39;49mparse()\n",
      "File \u001b[1;32mc:\\Users\\adamc\\AppData\\Local\\Programs\\Python\\Python39\\lib\\site-packages\\cron_descriptor\\ExpressionParser.py:111\u001b[0m, in \u001b[0;36mExpressionParser.parse\u001b[1;34m(self)\u001b[0m\n\u001b[0;32m    109\u001b[0m         parsed \u001b[39m=\u001b[39m expression_parts_temp\n\u001b[0;32m    110\u001b[0m     \u001b[39melse\u001b[39;00m:\n\u001b[1;32m--> 111\u001b[0m         \u001b[39mraise\u001b[39;00m FormatException(\n\u001b[0;32m    112\u001b[0m             \u001b[39m\"\u001b[39m\u001b[39mError: Expression has too many parts (\u001b[39m\u001b[39m{0}\u001b[39;00m\u001b[39m).  Expression must not have more than 7 parts.\u001b[39m\u001b[39m\"\u001b[39m\u001b[39m.\u001b[39mformat(\n\u001b[0;32m    113\u001b[0m                 expression_parts_temp_length\n\u001b[0;32m    114\u001b[0m             )\n\u001b[0;32m    115\u001b[0m         )\n\u001b[0;32m    116\u001b[0m \u001b[39mself\u001b[39m\u001b[39m.\u001b[39mnormalize_expression(parsed)\n\u001b[0;32m    118\u001b[0m \u001b[39mreturn\u001b[39;00m parsed\n",
      "\u001b[1;31mFormatException\u001b[0m: Error: Expression has too many parts (13).  Expression must not have more than 7 parts."
     ]
    }
   ],
   "source": [
    "get_description(schedule)"
   ]
  },
  {
   "cell_type": "code",
   "execution_count": 18,
   "metadata": {},
   "outputs": [
    {
     "ename": "NameError",
     "evalue": "name 'FormatException' is not defined",
     "output_type": "error",
     "traceback": [
      "\u001b[1;31m---------------------------------------------------------------------------\u001b[0m",
      "\u001b[1;31mNameError\u001b[0m                                 Traceback (most recent call last)",
      "\u001b[1;32mc:\\Users\\adamc\\OneDrive\\Documents\\GitHub\\CPS731-group-project\\back-end\\testing.ipynb Cell 19\u001b[0m line \u001b[0;36m1\n\u001b[1;32m----> <a href='vscode-notebook-cell:/c%3A/Users/adamc/OneDrive/Documents/GitHub/CPS731-group-project/back-end/testing.ipynb#X25sZmlsZQ%3D%3D?line=0'>1</a>\u001b[0m FormatException\n",
      "\u001b[1;31mNameError\u001b[0m: name 'FormatException' is not defined"
     ]
    }
   ],
   "source": [
    "FormatException"
   ]
  },
  {
   "cell_type": "code",
   "execution_count": null,
   "metadata": {},
   "outputs": [],
   "source": []
  }
 ],
 "metadata": {
  "kernelspec": {
   "display_name": "Python 3",
   "language": "python",
   "name": "python3"
  },
  "language_info": {
   "codemirror_mode": {
    "name": "ipython",
    "version": 3
   },
   "file_extension": ".py",
   "mimetype": "text/x-python",
   "name": "python",
   "nbconvert_exporter": "python",
   "pygments_lexer": "ipython3",
   "version": "3.9.7"
  }
 },
 "nbformat": 4,
 "nbformat_minor": 2
}

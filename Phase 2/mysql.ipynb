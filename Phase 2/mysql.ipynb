{
 "cells": [
  {
   "cell_type": "code",
   "execution_count": 1,
   "metadata": {},
   "outputs": [],
   "source": [
    "import sqlite3\n",
    "from cron_descriptor import get_description, ExpressionDescriptor"
   ]
  },
  {
   "cell_type": "code",
   "execution_count": 2,
   "metadata": {},
   "outputs": [],
   "source": [
    "con = sqlite3.connect(\"helpdesk.db\")"
   ]
  },
  {
   "cell_type": "code",
   "execution_count": 3,
   "metadata": {},
   "outputs": [],
   "source": [
    "cur = con.cursor()"
   ]
  },
  {
   "cell_type": "code",
   "execution_count": 34,
   "metadata": {},
   "outputs": [
    {
     "data": {
      "text/plain": [
       "<sqlite3.Cursor at 0x2c07f9ddd40>"
      ]
     },
     "execution_count": 34,
     "metadata": {},
     "output_type": "execute_result"
    }
   ],
   "source": [
    "cur.execute(\"DROP TABLE IF EXISTS login\")\n",
    "cur.execute(\"DROP TABLE IF EXISTS users\")\n",
    "cur.execute(\"DROP TABLE IF EXISTS tickets\")\n",
    "cur.execute(\"DROP TABLE IF EXISTS user_schedules\")\n"
   ]
  },
  {
   "cell_type": "code",
   "execution_count": 35,
   "metadata": {},
   "outputs": [],
   "source": [
    "query_strings = [\n",
    "    \"CREATE TABLE login( \\\n",
    "                user_id STRING NOT NULL PRIMARY KEY, \\\n",
    "                user_email STRING NOT NULL UNIQUE, \\\n",
    "                password STRING NOT NULL\\\n",
    "                )\",\n",
    "    \"CREATE TABLE users(\\\n",
    "                user_id STRING NOT NULL PRIMARY KEY, \\\n",
    "                user_name STRING NOT NULL, \\\n",
    "                user_email STRING NOT NULL UNIQUE, \\\n",
    "                user_permissions STRING NOT NULL, \\\n",
    "                department STRING NOT NULL\\\n",
    "                    )\",\n",
    "    \"CREATE TABLE user_schedules(\\\n",
    "                user_id INTEGER NOT NULL PRIMARY KEY, \\\n",
    "                schedule STRING NOT NULL\\\n",
    "                    )\",\n",
    "    \"CREATE TABLE tickets(\\\n",
    "                ticket_id STRING NOT NULL PRIMARY KEY, \\\n",
    "                requestor_id STRING NOT NULL, \\\n",
    "                assignee_id STRING NOT NULL, \\\n",
    "                department STRING NOT NULL, \\\n",
    "                meeting_timestamp STRING NOT NULL\\\n",
    "                    )\"\n",
    "]\n",
    "\n",
    "for query in query_strings:\n",
    "    cur.execute(query)"
   ]
  },
  {
   "cell_type": "code",
   "execution_count": 36,
   "metadata": {},
   "outputs": [],
   "source": [
    "def create_new_user(user_name, user_email, user_permissions, department, password=\"password\"):\n",
    "    results = cur.execute(\"SELECT MAX(user_id) FROM users\")\n",
    "    if results.fetchone()[0] == None:\n",
    "        user_id = 1\n",
    "    else:\n",
    "        results = cur.execute(\"SELECT MAX(user_id) FROM users\")\n",
    "        max_id = results.fetchone()[0]\n",
    "        user_id = max_id + 1\n",
    "        \n",
    "    cur.execute(\"INSERT INTO users VALUES(?,?,?,?,?)\", (user_id, user_name, user_email, user_permissions, department)) \n",
    "    cur.execute(\"INSERT INTO login VALUES(?,?,?)\", (user_id, user_email, password))\n",
    "    cur.execute(\"INSERT INTO user_schedules VALUES(?,?)\", (user_id, \"\"))\n",
    "    con.commit()\n",
    "    "
   ]
  },
  {
   "cell_type": "code",
   "execution_count": 37,
   "metadata": {},
   "outputs": [],
   "source": [
    "def _initial_user_setup():\n",
    "    # Create new admin users\n",
    "    create_new_user(\"Adam Cameron\", \"adam.cameron@aaier.ca\", 'admin', 'IT')\n",
    "    create_new_user(\"Rachita Singh\", \"rachita.singh@aaier.ca\", 'admin', 'IT')\n",
    "    create_new_user(\"Inaya Rajwani\", \"inaya.rajwani@aaier.ca\", 'admin', 'IT')\n",
    "    create_new_user(\"Emily Chiu\", \"emily.chiu@aaier.ca\", 'admin', 'IT')\n",
    "    create_new_user(\"Abee Allen\", \"abee.allen@aaier.ca\", 'admin', 'IT')\n",
    "\n",
    "    # Create new user users\n",
    "    create_new_user(\"Ella Johnson\", \"ella.johnson@aaier.ca\", \"user\", \"Sales\")\n",
    "    create_new_user(\"Mason Adams\", \"mason.adams@aaier.ca\", \"user\", \"Marketing\")\n",
    "    create_new_user(\"Ava Mitchell\", \"ava.mitchell@aaier.ca\", \"user\", \"Finance\")\n",
    "    create_new_user(\"Logan Parker\", \"logan.parker@aaier.ca\", \"user\", \"Sales\")\n",
    "    create_new_user(\"Grace Turner\", \"grace.turner@aaier.ca\", \"user\", \"Marketing\")\n",
    "    create_new_user(\"Ethan Bailey\", \"ethan.bailey@aaier.ca\", \"user\", \"Finance\")\n",
    "    create_new_user(\"Lily Ward\", \"lily.ward@aaier.ca\", \"user\", \"Sales\")\n",
    "    create_new_user(\"Owen Sullivan\", \"owen.sullivan@aaier.ca\", \"user\", \"Marketing\")\n",
    "    create_new_user(\"Zoe Fisher\", \"zoe.fisher@aaier.ca\", \"user\", \"Finance\")\n",
    "    create_new_user(\"Carter Turner\", \"carter.turner@aaier.ca\", \"user\", \"Sales\")\n",
    "    create_new_user(\"Sophia Hughes\", \"sophia.hughes@aaier.ca\", \"user\", \"Marketing\")\n",
    "    create_new_user(\"Jackson Reynolds\", \"jackson.reynolds@aaier.ca\", \"user\", \"Finance\")\n",
    "    create_new_user(\"Olivia King\", \"olivia.king@aaier.ca\", \"user\", \"Sales\")\n",
    "    create_new_user(\"Liam Wells\", \"liam.wells@aaier.ca\", \"user\", \"Marketing\")\n",
    "    create_new_user(\"Chloe Carter\", \"chloe.carter@aaier.ca\", \"user\", \"Finance\")\n",
    "    create_new_user(\"Lucas Hayes\", \"lucas.hayes@aaier.ca\", \"user\", \"Sales\")\n",
    "    create_new_user(\"Avery Nelson\", \"avery.nelson@aaier.ca\", \"user\", \"Marketing\")\n",
    "    create_new_user(\"Scarlett Hughes\", \"scarlett.hughes@aaier.ca\", \"user\", \"Finance\")\n",
    "    create_new_user(\"Noah Turner\", \"noah.turner@aaier.ca\", \"user\", \"Sales\")\n",
    "    create_new_user(\"Emma Baker\", \"emma.baker@aaier.ca\", \"user\", \"Marketing\")"
   ]
  },
  {
   "cell_type": "code",
   "execution_count": 62,
   "metadata": {},
   "outputs": [],
   "source": [
    "def login(user_email, password):\n",
    "    res = cur.execute(\"SELECT user_email, password, user_id FROM login\")\n",
    "    results = res.fetchall()\n",
    "    \n",
    "    for row in results:\n",
    "        if row[0] == user_email and row[1] == password:\n",
    "            return row[2]\n",
    "        elif row[0] == user_email and row[1] != password:\n",
    "            return \"Incorrect Password\"\n",
    "    return \"User not found\""
   ]
  },
  {
   "cell_type": "code",
   "execution_count": 59,
   "metadata": {},
   "outputs": [
    {
     "data": {
      "text/plain": [
       "[('adam.cameron@aaier.ca', 'password', 1),\n",
       " ('rachita.singh@aaier.ca', 'password', 2),\n",
       " ('inaya.rajwani@aaier.ca', 'password', 3),\n",
       " ('emily.chiu@aaier.ca', 'password', 4),\n",
       " ('abee.allen@aaier.ca', 'password', 5),\n",
       " ('ella.johnson@aaier.ca', 'password', 6),\n",
       " ('mason.adams@aaier.ca', 'password', 7),\n",
       " ('ava.mitchell@aaier.ca', 'password', 8),\n",
       " ('logan.parker@aaier.ca', 'password', 9),\n",
       " ('grace.turner@aaier.ca', 'password', 10),\n",
       " ('ethan.bailey@aaier.ca', 'password', 11),\n",
       " ('lily.ward@aaier.ca', 'password', 12),\n",
       " ('owen.sullivan@aaier.ca', 'password', 13),\n",
       " ('zoe.fisher@aaier.ca', 'password', 14),\n",
       " ('carter.turner@aaier.ca', 'password', 15),\n",
       " ('sophia.hughes@aaier.ca', 'password', 16),\n",
       " ('jackson.reynolds@aaier.ca', 'password', 17),\n",
       " ('olivia.king@aaier.ca', 'password', 18),\n",
       " ('liam.wells@aaier.ca', 'password', 19),\n",
       " ('chloe.carter@aaier.ca', 'password', 20),\n",
       " ('lucas.hayes@aaier.ca', 'password', 21),\n",
       " ('avery.nelson@aaier.ca', 'password', 22),\n",
       " ('scarlett.hughes@aaier.ca', 'password', 23),\n",
       " ('noah.turner@aaier.ca', 'password', 24),\n",
       " ('emma.baker@aaier.ca', 'password', 25)]"
      ]
     },
     "execution_count": 59,
     "metadata": {},
     "output_type": "execute_result"
    }
   ],
   "source": [
    "res = cur.execute(\"SELECT user_email, password, user_id FROM login\")\n",
    "# res = cur.execute(\"SELECT * FROM users\")\n",
    "results = res.fetchall()\n",
    "results"
   ]
  },
  {
   "cell_type": "code",
   "execution_count": 63,
   "metadata": {},
   "outputs": [
    {
     "data": {
      "text/plain": [
       "6"
      ]
     },
     "execution_count": 63,
     "metadata": {},
     "output_type": "execute_result"
    }
   ],
   "source": [
    "login(\"ella.johnson@aaier.ca\", \"password\")"
   ]
  },
  {
   "cell_type": "code",
   "execution_count": 64,
   "metadata": {},
   "outputs": [],
   "source": []
  },
  {
   "cell_type": "code",
   "execution_count": 25,
   "metadata": {},
   "outputs": [
    {
     "data": {
      "text/plain": [
       "[(1, 'Adam Cameron', 'adam.cameron@aaier.ca', 'admin', 'IT'),\n",
       " (2, 'Rachita Singh', 'rachita.singh@aaier.ca', 'admin', 'IT'),\n",
       " (3, 'Inaya Rajwani', 'inaya.rajwani@aaier.ca', 'admin', 'IT'),\n",
       " (4, 'Emily Chiu', 'emily.chiu@aaier.ca', 'admin', 'IT'),\n",
       " (5, 'Abee Allen', 'abee.allen@aaier.ca', 'admin', 'IT'),\n",
       " (6, 'Ella Johnson', 'ella.johnson@aaier.ca', 'user', 'Sales'),\n",
       " (7, 'Mason Adams', 'mason.adams@aaier.ca', 'user', 'Marketing'),\n",
       " (8, 'Ava Mitchell', 'ava.mitchell@aaier.ca', 'user', 'Finance'),\n",
       " (9, 'Logan Parker', 'logan.parker@aaier.ca', 'user', 'Sales'),\n",
       " (10, 'Grace Turner', 'grace.turner@aaier.ca', 'user', 'Marketing'),\n",
       " (11, 'Ethan Bailey', 'ethan.bailey@aaier.ca', 'user', 'Finance'),\n",
       " (12, 'Lily Ward', 'lily.ward@aaier.ca', 'user', 'Sales'),\n",
       " (13, 'Owen Sullivan', 'owen.sullivan@aaier.ca', 'user', 'Marketing'),\n",
       " (14, 'Zoe Fisher', 'zoe.fisher@aaier.ca', 'user', 'Finance'),\n",
       " (15, 'Carter Turner', 'carter.turner@aaier.ca', 'user', 'Sales'),\n",
       " (16, 'Sophia Hughes', 'sophia.hughes@aaier.ca', 'user', 'Marketing'),\n",
       " (17, 'Jackson Reynolds', 'jackson.reynolds@aaier.ca', 'user', 'Finance'),\n",
       " (18, 'Olivia King', 'olivia.king@aaier.ca', 'user', 'Sales'),\n",
       " (19, 'Liam Wells', 'liam.wells@aaier.ca', 'user', 'Marketing'),\n",
       " (20, 'Chloe Carter', 'chloe.carter@aaier.ca', 'user', 'Finance'),\n",
       " (21, 'Lucas Hayes', 'lucas.hayes@aaier.ca', 'user', 'Sales'),\n",
       " (22, 'Avery Nelson', 'avery.nelson@aaier.ca', 'user', 'Marketing'),\n",
       " (23, 'Scarlett Hughes', 'scarlett.hughes@aaier.ca', 'user', 'Finance'),\n",
       " (24, 'Noah Turner', 'noah.turner@aaier.ca', 'user', 'Sales'),\n",
       " (25, 'Emma Baker', 'emma.baker@aaier.ca', 'user', 'Marketing')]"
      ]
     },
     "execution_count": 25,
     "metadata": {},
     "output_type": "execute_result"
    }
   ],
   "source": [
    "res = cur.execute(\"SELECT * FROM users\")\n",
    "res.fetchall()"
   ]
  },
  {
   "cell_type": "code",
   "execution_count": 12,
   "metadata": {},
   "outputs": [],
   "source": [
    "schedule = \"* 12-13 * * 1,* 14 * * 3,* 11 * * 5\""
   ]
  },
  {
   "cell_type": "code",
   "execution_count": 13,
   "metadata": {},
   "outputs": [
    {
     "data": {
      "text/plain": [
       "['* 12-13 * * 1', ' * 14 * * 3', ' * 11 * * 5']"
      ]
     },
     "execution_count": 13,
     "metadata": {},
     "output_type": "execute_result"
    }
   ],
   "source": [
    "schedule.split(\",\")"
   ]
  },
  {
   "cell_type": "code",
   "execution_count": 8,
   "metadata": {},
   "outputs": [
    {
     "data": {
      "text/plain": [
       "<sqlite3.Cursor at 0x1b94adf4340>"
      ]
     },
     "execution_count": 8,
     "metadata": {},
     "output_type": "execute_result"
    }
   ],
   "source": [
    "cur.execute(\"DROP TABLE movie\")"
   ]
  },
  {
   "cell_type": "code",
   "execution_count": 9,
   "metadata": {},
   "outputs": [
    {
     "ename": "OperationalError",
     "evalue": "no such table: movie",
     "output_type": "error",
     "traceback": [
      "\u001b[1;31m---------------------------------------------------------------------------\u001b[0m",
      "\u001b[1;31mOperationalError\u001b[0m                          Traceback (most recent call last)",
      "\u001b[1;32mc:\\Users\\adamc\\OneDrive\\Documents\\GitHub\\CPS731-group-project\\Phase 2\\mysql.ipynb Cell 6\u001b[0m line \u001b[0;36m1\n\u001b[1;32m----> <a href='vscode-notebook-cell:/c%3A/Users/adamc/OneDrive/Documents/GitHub/CPS731-group-project/Phase%202/mysql.ipynb#W3sZmlsZQ%3D%3D?line=0'>1</a>\u001b[0m res \u001b[39m=\u001b[39m cur\u001b[39m.\u001b[39;49mexecute(\u001b[39m\"\u001b[39;49m\u001b[39mSELECT * FROM movie\u001b[39;49m\u001b[39m\"\u001b[39;49m)\n\u001b[0;32m      <a href='vscode-notebook-cell:/c%3A/Users/adamc/OneDrive/Documents/GitHub/CPS731-group-project/Phase%202/mysql.ipynb#W3sZmlsZQ%3D%3D?line=1'>2</a>\u001b[0m res\u001b[39m.\u001b[39mfetchone()\n",
      "\u001b[1;31mOperationalError\u001b[0m: no such table: movie"
     ]
    }
   ],
   "source": [
    "res = cur.execute(\"SELECT * FROM movie\")\n",
    "res.fetchone()"
   ]
  },
  {
   "cell_type": "code",
   "execution_count": null,
   "metadata": {},
   "outputs": [],
   "source": []
  }
 ],
 "metadata": {
  "kernelspec": {
   "display_name": "Python 3",
   "language": "python",
   "name": "python3"
  },
  "language_info": {
   "codemirror_mode": {
    "name": "ipython",
    "version": 3
   },
   "file_extension": ".py",
   "mimetype": "text/x-python",
   "name": "python",
   "nbconvert_exporter": "python",
   "pygments_lexer": "ipython3",
   "version": "3.12.0"
  }
 },
 "nbformat": 4,
 "nbformat_minor": 2
}
